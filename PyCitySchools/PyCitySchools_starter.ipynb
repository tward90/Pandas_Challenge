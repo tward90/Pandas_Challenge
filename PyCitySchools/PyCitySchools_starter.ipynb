{
 "cells": [
  {
   "cell_type": "markdown",
   "metadata": {},
   "source": [
    "### Note\n",
    "* Instructions have been included for each segment. You do not have to follow them exactly, but they are included to help you think through the steps."
   ]
  },
  {
   "cell_type": "code",
   "execution_count": 1,
   "metadata": {
    "scrolled": true
   },
   "outputs": [],
   "source": [
    "# Dependencies and Setup\n",
    "import pandas as pd\n",
    "import os\n",
    "\n",
    "# File to Load (Remember to Change These)\n",
    "school_data_to_load = os.path.join(\"Resources\", \"schools_complete.csv\")\n",
    "student_data_to_load = os.path.join(\"Resources\", \"students_complete.csv\")\n",
    "\n",
    "# Read School and Student Data File and store into Pandas DataFrames\n",
    "school = pd.read_csv(school_data_to_load)\n",
    "student = pd.read_csv(student_data_to_load)\n",
    "\n",
    "# Combine the data into a single dataset.  \n",
    "df = pd.merge(student, school, how=\"left\", on=[\"school_name\", \"school_name\"])"
   ]
  },
  {
   "cell_type": "markdown",
   "metadata": {},
   "source": [
    "## District Summary\n",
    "\n",
    "* Calculate the total number of schools\n",
    "\n",
    "* Calculate the total number of students\n",
    "\n",
    "* Calculate the total budget\n",
    "\n",
    "* Calculate the average math score \n",
    "\n",
    "* Calculate the average reading score\n",
    "\n",
    "* Calculate the percentage of students with a passing math score (70 or greater)\n",
    "\n",
    "* Calculate the percentage of students with a passing reading score (70 or greater)\n",
    "\n",
    "* Calculate the percentage of students who passed math **and** reading (% Overall Passing)\n",
    "\n",
    "* Create a dataframe to hold the above results\n",
    "\n",
    "* Optional: give the displayed data cleaner formatting"
   ]
  },
  {
   "cell_type": "code",
   "execution_count": 2,
   "metadata": {},
   "outputs": [],
   "source": [
    "# Count the total number of schools\n",
    "Total_Schools = df['school_name'].nunique()\n",
    "\n",
    "#Count the total number of students\n",
    "Total_Students = df['student_name'].count()\n",
    "\n",
    "# Find the total budget for all schools in the district\n",
    "Total_Budget = school['budget'].sum()\n",
    "\n",
    "# Find the average Scores of Math and reading rounded to the 6th place as per example\n",
    "Avg_Math = (df['math_score'].mean()).round(6)\n",
    "Avg_Read = (df['reading_score'].mean()).round(6)\n",
    "\n",
    "# Find total number of students who passed Math\n",
    "Pass_Math = sum(x >= 70 for x in df['math_score'])\n",
    "\n",
    "# Find total number of students who passed Reading\n",
    "Pass_Read = sum(x >= 70 for x in df['reading_score'])\n",
    "\n",
    "#Find total number of students who passed Math and Reading\n",
    "Pass_Read_Math = len(df.loc[(df['math_score'] >= 70) & (df['reading_score'] >= 70)])\n",
    "\n",
    "# Calculate all passing percentages\n",
    "Pass_Math_Per = ((Pass_Math / Total_Students) * 100)\n",
    "Pass_Read_Per = ((Pass_Read / Total_Students) * 100)\n",
    "Pass_Read_Math_Per = ((Pass_Read_Math / Total_Students) * 100)\n"
   ]
  },
  {
   "cell_type": "code",
   "execution_count": 3,
   "metadata": {},
   "outputs": [
    {
     "data": {
      "text/html": [
       "<style  type=\"text/css\" >\n",
       "</style><table id=\"T_3306c0a4_a390_11ea_8f30_acde48001122\" ><thead>    <tr>        <th class=\"blank level0\" ></th>        <th class=\"col_heading level0 col0\" >Total Schools</th>        <th class=\"col_heading level0 col1\" >Total Students</th>        <th class=\"col_heading level0 col2\" >Total Budget</th>        <th class=\"col_heading level0 col3\" >Average Math Score</th>        <th class=\"col_heading level0 col4\" >Average Reading Score</th>        <th class=\"col_heading level0 col5\" >Pass Math (%)</th>        <th class=\"col_heading level0 col6\" >Pass Reading (%)</th>        <th class=\"col_heading level0 col7\" >Pass Overall (%)</th>    </tr></thead><tbody>\n",
       "                <tr>\n",
       "                        <th id=\"T_3306c0a4_a390_11ea_8f30_acde48001122level0_row0\" class=\"row_heading level0 row0\" >0</th>\n",
       "                        <td id=\"T_3306c0a4_a390_11ea_8f30_acde48001122row0_col0\" class=\"data row0 col0\" >15</td>\n",
       "                        <td id=\"T_3306c0a4_a390_11ea_8f30_acde48001122row0_col1\" class=\"data row0 col1\" >39,170</td>\n",
       "                        <td id=\"T_3306c0a4_a390_11ea_8f30_acde48001122row0_col2\" class=\"data row0 col2\" >$24,649,428</td>\n",
       "                        <td id=\"T_3306c0a4_a390_11ea_8f30_acde48001122row0_col3\" class=\"data row0 col3\" >78.99</td>\n",
       "                        <td id=\"T_3306c0a4_a390_11ea_8f30_acde48001122row0_col4\" class=\"data row0 col4\" >81.88</td>\n",
       "                        <td id=\"T_3306c0a4_a390_11ea_8f30_acde48001122row0_col5\" class=\"data row0 col5\" >74.98</td>\n",
       "                        <td id=\"T_3306c0a4_a390_11ea_8f30_acde48001122row0_col6\" class=\"data row0 col6\" >85.81</td>\n",
       "                        <td id=\"T_3306c0a4_a390_11ea_8f30_acde48001122row0_col7\" class=\"data row0 col7\" >65.17</td>\n",
       "            </tr>\n",
       "    </tbody></table>"
      ],
      "text/plain": [
       "<pandas.io.formats.style.Styler at 0x10b5c18b0>"
      ]
     },
     "execution_count": 3,
     "metadata": {},
     "output_type": "execute_result"
    }
   ],
   "source": [
    "\n",
    "Summary_df = pd.DataFrame([{'Total Schools': Total_Schools, 'Total Students': Total_Students, 'Total Budget': Total_Budget, \n",
    "    'Average Math Score': Avg_Math, 'Average Reading Score' : Avg_Read, 'Pass Math (%)' : Pass_Math_Per, \n",
    "    'Pass Reading (%)' : Pass_Read_Per, 'Pass Overall (%)': Pass_Read_Math_Per}])\n",
    "\n",
    "Summary_df.style.format({\"Total Students\": '{:,}', 'Total Budget': '${:,}', 'Average Math Score': '{:.2f}',\n",
    "                        'Average Reading Score': '{:.2f}', 'Pass Math (%)': '{:.2f}', 'Pass Reading (%)': '{:.2f}',\n",
    "                        'Pass Overall (%)' : '{:.2f}'})\n"
   ]
  },
  {
   "cell_type": "markdown",
   "metadata": {},
   "source": [
    "## School Summary"
   ]
  },
  {
   "cell_type": "markdown",
   "metadata": {},
   "source": [
    "* Create an overview table that summarizes key metrics about each school, including:\n",
    "  * School Name\n",
    "  * School Type\n",
    "  * Total Students\n",
    "  * Total School Budget\n",
    "  * Per Student Budget\n",
    "  * Average Math Score\n",
    "  * Average Reading Score\n",
    "  * % Passing Math\n",
    "  * % Passing Reading\n",
    "  * % Overall Passing (The percentage of students that passed math **and** reading.)\n",
    "  \n",
    "* Create a dataframe to hold the above results"
   ]
  },
  {
   "cell_type": "code",
   "execution_count": null,
   "metadata": {},
   "outputs": [],
   "source": []
  },
  {
   "cell_type": "markdown",
   "metadata": {},
   "source": [
    "## Top Performing Schools (By % Overall Passing)"
   ]
  },
  {
   "cell_type": "markdown",
   "metadata": {},
   "source": [
    "* Sort and display the top five performing schools by % overall passing."
   ]
  },
  {
   "cell_type": "code",
   "execution_count": null,
   "metadata": {
    "scrolled": true
   },
   "outputs": [],
   "source": []
  },
  {
   "cell_type": "markdown",
   "metadata": {},
   "source": [
    "## Bottom Performing Schools (By % Overall Passing)"
   ]
  },
  {
   "cell_type": "markdown",
   "metadata": {},
   "source": [
    "* Sort and display the five worst-performing schools by % overall passing."
   ]
  },
  {
   "cell_type": "code",
   "execution_count": null,
   "metadata": {},
   "outputs": [],
   "source": []
  },
  {
   "cell_type": "markdown",
   "metadata": {
    "collapsed": true
   },
   "source": [
    "## Math Scores by Grade"
   ]
  },
  {
   "cell_type": "markdown",
   "metadata": {},
   "source": [
    "* Create a table that lists the average Reading Score for students of each grade level (9th, 10th, 11th, 12th) at each school.\n",
    "\n",
    "  * Create a pandas series for each grade. Hint: use a conditional statement.\n",
    "  \n",
    "  * Group each series by school\n",
    "  \n",
    "  * Combine the series into a dataframe\n",
    "  \n",
    "  * Optional: give the displayed data cleaner formatting"
   ]
  },
  {
   "cell_type": "code",
   "execution_count": null,
   "metadata": {},
   "outputs": [],
   "source": []
  },
  {
   "cell_type": "markdown",
   "metadata": {},
   "source": [
    "## Reading Score by Grade "
   ]
  },
  {
   "cell_type": "markdown",
   "metadata": {},
   "source": [
    "* Perform the same operations as above for reading scores"
   ]
  },
  {
   "cell_type": "code",
   "execution_count": null,
   "metadata": {},
   "outputs": [],
   "source": []
  },
  {
   "cell_type": "markdown",
   "metadata": {},
   "source": [
    "## Scores by School Spending"
   ]
  },
  {
   "cell_type": "markdown",
   "metadata": {},
   "source": [
    "* Create a table that breaks down school performances based on average Spending Ranges (Per Student). Use 4 reasonable bins to group school spending. Include in the table each of the following:\n",
    "  * Average Math Score\n",
    "  * Average Reading Score\n",
    "  * % Passing Math\n",
    "  * % Passing Reading\n",
    "  * Overall Passing Rate (Average of the above two)"
   ]
  },
  {
   "cell_type": "code",
   "execution_count": null,
   "metadata": {},
   "outputs": [],
   "source": []
  },
  {
   "cell_type": "markdown",
   "metadata": {},
   "source": [
    "## Scores by School Size"
   ]
  },
  {
   "cell_type": "markdown",
   "metadata": {},
   "source": [
    "* Perform the same operations as above, based on school size."
   ]
  },
  {
   "cell_type": "code",
   "execution_count": null,
   "metadata": {
    "scrolled": true
   },
   "outputs": [],
   "source": []
  },
  {
   "cell_type": "markdown",
   "metadata": {},
   "source": [
    "## Scores by School Type"
   ]
  },
  {
   "cell_type": "markdown",
   "metadata": {},
   "source": [
    "* Perform the same operations as above, based on school type"
   ]
  },
  {
   "cell_type": "code",
   "execution_count": null,
   "metadata": {},
   "outputs": [],
   "source": []
  },
  {
   "cell_type": "code",
   "execution_count": null,
   "metadata": {},
   "outputs": [],
   "source": []
  }
 ],
 "metadata": {
  "anaconda-cloud": {},
  "kernel_info": {
   "name": "python3"
  },
  "kernelspec": {
   "display_name": "Python [conda env:PythonData] *",
   "language": "python",
   "name": "conda-env-PythonData-py"
  },
  "language_info": {
   "codemirror_mode": {
    "name": "ipython",
    "version": 3
   },
   "file_extension": ".py",
   "mimetype": "text/x-python",
   "name": "python",
   "nbconvert_exporter": "python",
   "pygments_lexer": "ipython3",
   "version": "3.8.3"
  },
  "latex_envs": {
   "LaTeX_envs_menu_present": true,
   "autoclose": false,
   "autocomplete": true,
   "bibliofile": "biblio.bib",
   "cite_by": "apalike",
   "current_citInitial": 1,
   "eqLabelWithNumbers": true,
   "eqNumInitial": 1,
   "hotkeys": {
    "equation": "Ctrl-E",
    "itemize": "Ctrl-I"
   },
   "labels_anchors": false,
   "latex_user_defs": false,
   "report_style_numbering": false,
   "user_envs_cfg": false
  },
  "nteract": {
   "version": "0.8.4"
  }
 },
 "nbformat": 4,
 "nbformat_minor": 1
}
